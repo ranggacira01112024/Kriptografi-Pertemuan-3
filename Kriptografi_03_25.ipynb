{
  "nbformat": 4,
  "nbformat_minor": 0,
  "metadata": {
    "colab": {
      "provenance": [],
      "authorship_tag": "ABX9TyM186OdrSA916fnfIYxcIOc",
      "include_colab_link": true
    },
    "kernelspec": {
      "name": "python3",
      "display_name": "Python 3"
    },
    "language_info": {
      "name": "python"
    }
  },
  "cells": [
    {
      "cell_type": "markdown",
      "metadata": {
        "id": "view-in-github",
        "colab_type": "text"
      },
      "source": [
        "<a href=\"https://colab.research.google.com/github/ranggacira01112024/Kriptografi-Pertemuan-3/blob/main/Kriptografi_03_25.ipynb\" target=\"_parent\"><img src=\"https://colab.research.google.com/assets/colab-badge.svg\" alt=\"Open In Colab\"/></a>"
      ]
    },
    {
      "cell_type": "code",
      "execution_count": 7,
      "metadata": {
        "colab": {
          "base_uri": "https://localhost:8080/"
        },
        "id": "n5AOkcDHQBb9",
        "outputId": "6d104b11-4b99-44a4-bf22-b8ea5bfa2831"
      },
      "outputs": [
        {
          "output_type": "stream",
          "name": "stdout",
          "text": [
            "Caesar Encrypted: IDQVFRXSOH18\n",
            "Caesar Decrypted: FANSCOUPLE18\n"
          ]
        }
      ],
      "source": [
        "# Caesar Cipher Implementation\n",
        "def caesar_cipher_encrypt(plaintext, key):\n",
        "    # Shift each character by the key value\n",
        "    encrypted = ''.join([chr((ord(char) - 65 + key) % 26 + 65) if char.isalpha() else char for char in plaintext.upper()])\n",
        "    return encrypted\n",
        "\n",
        "def caesar_cipher_decrypt(ciphertext, key):\n",
        "    # Reverse the shift by subtracting the key value\n",
        "    decrypted = ''.join([chr((ord(char) - 65 - key) % 26 + 65) if char.isalpha() else char for char in ciphertext.upper()])\n",
        "    return decrypted\n",
        "\n",
        "# Example\n",
        "plaintext = \"Fanscouple18\"\n",
        "key = 3\n",
        "encrypted_text = caesar_cipher_encrypt(plaintext, key)\n",
        "decrypted_text = caesar_cipher_decrypt(encrypted_text, key)\n",
        "\n",
        "print(\"Caesar Encrypted:\", encrypted_text)\n",
        "print(\"Caesar Decrypted:\", decrypted_text)\n"
      ]
    },
    {
      "cell_type": "code",
      "source": [
        "# Vigenere Cipher Implementation\n",
        "def vigenere_cipher_encrypt(plaintext, key):\n",
        "    key = key.upper()\n",
        "    encrypted = []\n",
        "    key_index = 0\n",
        "\n",
        "    for char in plaintext.upper():\n",
        "        if char.isalpha():\n",
        "            shift = ord(key[key_index % len(key)]) - 65\n",
        "            encrypted_char = chr((ord(char) - 65 + shift) % 26 + 65)\n",
        "            encrypted.append(encrypted_char)\n",
        "            key_index += 1\n",
        "        else:\n",
        "            encrypted.append(char)\n",
        "\n",
        "    return ''.join(encrypted)\n",
        "\n",
        "def vigenere_cipher_decrypt(ciphertext, key):\n",
        "    key = key.upper()\n",
        "    decrypted = []\n",
        "    key_index = 0\n",
        "\n",
        "    for char in ciphertext.upper():\n",
        "        if char.isalpha():\n",
        "            shift = ord(key[key_index % len(key)]) - 65\n",
        "            decrypted_char = chr((ord(char) - 65 - shift) % 26 + 65)\n",
        "            decrypted.append(decrypted_char)\n",
        "            key_index += 1\n",
        "        else:\n",
        "            decrypted.append(char)\n",
        "\n",
        "    return ''.join(decrypted)\n",
        "\n",
        "# Example\n",
        "plaintext = \"Latisha gaming halo\"\n",
        "key = \"KEY\"\n",
        "encrypted_text = vigenere_cipher_encrypt(plaintext, key)\n",
        "decrypted_text = vigenere_cipher_decrypt(encrypted_text, key)\n",
        "\n",
        "print(\"Vigenere Encrypted:\", encrypted_text)\n",
        "print(\"Vigenere Decrypted:\", decrypted_text)\n"
      ],
      "metadata": {
        "colab": {
          "base_uri": "https://localhost:8080/"
        },
        "id": "sJormWLTTPAC",
        "outputId": "c440da2f-5390-4c54-e8fe-fbf2d18e09db"
      },
      "execution_count": 9,
      "outputs": [
        {
          "output_type": "stream",
          "name": "stdout",
          "text": [
            "Vigenere Encrypted: VERSWFK KYWMLQ LYVS\n",
            "Vigenere Decrypted: LATISHA GAMING HALO\n"
          ]
        }
      ]
    },
    {
      "cell_type": "code",
      "source": [
        "# Rail Fence Cipher Implementation\n",
        "def rail_fence_encrypt(plaintext, key):\n",
        "    rail = ['' for _ in range(key)]\n",
        "    direction_down = False\n",
        "    row = 0\n",
        "\n",
        "    for char in plaintext:\n",
        "        rail[row] += char\n",
        "        if row == 0 or row == key - 1:\n",
        "            direction_down = not direction_down\n",
        "        row += 1 if direction_down else -1\n",
        "\n",
        "    return ''.join(rail)\n",
        "\n",
        "def rail_fence_decrypt(ciphertext, key):\n",
        "    rail = [['' for _ in range(len(ciphertext))] for _ in range(key)]\n",
        "    direction_down = None\n",
        "    row, index = 0, 0\n",
        "\n",
        "    for _ in range(len(ciphertext)):\n",
        "        rail[row][index] = '*'\n",
        "        if row == 0:\n",
        "            direction_down = True\n",
        "        if row == key - 1:\n",
        "            direction_down = False\n",
        "        row += 1 if direction_down else -1\n",
        "        index += 1\n",
        "\n",
        "    index = 0\n",
        "    for i in range(key):\n",
        "        for j in range(len(ciphertext)):\n",
        "            if rail[i][j] == '*' and index < len(ciphertext):\n",
        "                rail[i][j] = ciphertext[index]\n",
        "                index += 1\n",
        "\n",
        "    result = []\n",
        "    row, index = 0, 0\n",
        "    for _ in range(len(ciphertext)):\n",
        "        result.append(rail[row][index])\n",
        "        if row == 0:\n",
        "            direction_down = True\n",
        "        if row == key - 1:\n",
        "            direction_down = False\n",
        "        row += 1 if direction_down else -1\n",
        "        index += 1\n",
        "\n",
        "    return ''.join(result)\n",
        "\n",
        "# Example\n",
        "plaintext = \"Cira Ramadhanti\"\n",
        "key = 3\n",
        "encrypted_text = rail_fence_encrypt(plaintext, key)\n",
        "decrypted_text = rail_fence_decrypt(encrypted_text, key)\n",
        "\n",
        "print(\"Rail Fence Encrypted:\", encrypted_text)\n",
        "print(\"Rail Fence Decrypted:\", decrypted_text)\n"
      ],
      "metadata": {
        "colab": {
          "base_uri": "https://localhost:8080/"
        },
        "id": "icMl63-lTZmq",
        "outputId": "bd99240c-f413-454e-becf-a2a3d2309716"
      },
      "execution_count": 11,
      "outputs": [
        {
          "output_type": "stream",
          "name": "stdout",
          "text": [
            "Rail Fence Encrypted: C aniaRmdatrahi\n",
            "Rail Fence Decrypted: Cira Ramadhanti\n"
          ]
        }
      ]
    },
    {
      "cell_type": "code",
      "source": [
        "# Columnar Transposition Cipher Implementation\n",
        "def columnar_transposition_encrypt(plaintext, key):\n",
        "    key_length = len(key)\n",
        "    padding = key_length - (len(plaintext) % key_length)\n",
        "    plaintext += 'X' * padding\n",
        "    grid = [plaintext[i:i+key_length] for i in range(0, len(plaintext), key_length)]\n",
        "\n",
        "    key_order = sorted(list(key))\n",
        "    key_map = {char: idx for idx, char in enumerate(key)}\n",
        "\n",
        "    ciphertext = ''\n",
        "    for char in key_order:\n",
        "        col_idx = key_map[char]\n",
        "        for row in grid:\n",
        "            ciphertext += row[col_idx]\n",
        "\n",
        "    return ciphertext\n",
        "\n",
        "def columnar_transposition_decrypt(ciphertext, key):\n",
        "    key_length = len(key)\n",
        "    num_rows = len(ciphertext) // key_length\n",
        "    grid = ['' for _ in range(key_length)]\n",
        "\n",
        "    key_order = sorted(list(key))\n",
        "    key_map = {char: idx for idx, char in enumerate(key)}\n",
        "\n",
        "    index = 0\n",
        "    for char in key_order:\n",
        "        col_idx = key_map[char]\n",
        "        for row in range(num_rows):\n",
        "            grid[col_idx] += ciphertext[index]\n",
        "            index += 1\n",
        "\n",
        "    plaintext = ''\n",
        "    for row in range(num_rows):\n",
        "        for col in grid:\n",
        "            plaintext += col[row]\n",
        "\n",
        "    return plaintext.strip('X')\n",
        "\n",
        "# Example\n",
        "plaintext = \"Maulana Rangga Arrosyid\"\n",
        "key = \"KEY\"\n",
        "encrypted_text = columnar_transposition_encrypt(plaintext, key)\n",
        "decrypted_text = columnar_transposition_decrypt(encrypted_text, key)\n",
        "\n",
        "print(\"Columnar Encrypted:\", encrypted_text)\n",
        "print(\"Columnar Decrypted:\", decrypted_text)\n"
      ],
      "metadata": {
        "colab": {
          "base_uri": "https://localhost:8080/"
        },
        "id": "7bt2eK4wThdY",
        "outputId": "9043ddfe-f53f-407f-bbc8-b2b5c9b99dd7"
      },
      "execution_count": 12,
      "outputs": [
        {
          "output_type": "stream",
          "name": "stdout",
          "text": [
            "Columnar Encrypted: aa narsdMlaagAoiunRg ryX\n",
            "Columnar Decrypted: Maulana Rangga Arrosyid\n"
          ]
        }
      ]
    }
  ]
}